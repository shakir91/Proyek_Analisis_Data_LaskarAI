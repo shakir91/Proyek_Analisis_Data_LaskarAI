{
 "cells": [
  {
   "cell_type": "markdown",
   "metadata": {
    "id": "H9wADwK78DCz"
   },
   "source": [
    "# Proyek Analisis Data: [hour.csv]\n",
    "- **Nama:** Shakir Salim\n",
    "- **Email:** salim.syakir@gmail.com\n",
    "- **ID Dicoding:** shakir-salim"
   ]
  },
  {
   "cell_type": "markdown",
   "metadata": {
    "id": "eE0raob58DC0"
   },
   "source": [
    "## Menentukan Pertanyaan Bisnis"
   ]
  },
  {
   "cell_type": "markdown",
   "metadata": {
    "id": "GmQeQ5YF8DC0"
   },
   "source": [
    "1. Bagaimana distribusi jumlah penyewa sepeda per jam dalam sehari, dan pada jam berapa terjadi lonjakan tertinggi serta penurunan signifikan dalam permintaan?\n",
    "2. Bagaimana perbandingan rata-rata jumlah penggunaan sepeda rental antara pelanggan tetap dan non-pelanggan tetap dalam satu hari, dan pada jam-jam tertentu apakah terdapat perbedaan signifikan dalam intensitas penggunaan antara kedua segmen tersebut?\n",
    "3. Bagaimana pola jumlah penyewa sepeda setiap jam dalam 24 jam selama satu minggu, dan pada hari serta jam manakah terjadi lonjakan atau penurunan penggunaan yang paling signifikan?"
   ]
  },
  {
   "cell_type": "markdown",
   "metadata": {
    "id": "H-z4QGlO8DC1"
   },
   "source": [
    "## Import Semua Packages/Library yang Digunakan"
   ]
  },
  {
   "cell_type": "code",
   "execution_count": 51,
   "metadata": {
    "id": "ApKXnVaRzlqL"
   },
   "outputs": [],
   "source": [
    "import pandas as pd\n",
    "import numpy as np\n",
    "import matplotlib.pyplot as plt\n",
    "import seaborn as sns\n",
    "import plotly.express as px\n",
    "import plotly.graph_objects as go"
   ]
  },
  {
   "cell_type": "markdown",
   "metadata": {
    "id": "h_Sh51Xy8DC1"
   },
   "source": [
    "## Data Wrangling"
   ]
  },
  {
   "cell_type": "markdown",
   "metadata": {
    "id": "sXU2GBYu8DC1"
   },
   "source": [
    "### Gathering Data"
   ]
  },
  {
   "cell_type": "code",
   "execution_count": 52,
   "metadata": {
    "id": "kTTShQT2zg4w"
   },
   "outputs": [],
   "source": [
    "# Load dataset dari GitHub\n",
    "hourly_url = \"https://raw.githubusercontent.com/shakir91/Proyek_Analisis_Data_LaskarAI/main/data/hour.csv\""
   ]
  },
  {
   "cell_type": "code",
   "execution_count": 53,
   "metadata": {
    "id": "zxutRB3azV-L"
   },
   "outputs": [],
   "source": [
    "#baca datasets\n",
    "hour_df = pd.read_csv(hourly_url)"
   ]
  },
  {
   "cell_type": "markdown",
   "metadata": {
    "id": "FHSiqaZp8DC1"
   },
   "source": [
    "### Assessing Data"
   ]
  },
  {
   "cell_type": "code",
   "execution_count": 54,
   "metadata": {
    "colab": {
     "base_uri": "https://localhost:8080/"
    },
    "id": "V4Z9kq0w0UvZ",
    "outputId": "969ad853-db0a-4b17-9c8d-78348d10ceb3"
   },
   "outputs": [
    {
     "name": "stdout",
     "output_type": "stream",
     "text": [
      "<class 'pandas.core.frame.DataFrame'>\n",
      "RangeIndex: 17379 entries, 0 to 17378\n",
      "Data columns (total 17 columns):\n",
      " #   Column      Non-Null Count  Dtype  \n",
      "---  ------      --------------  -----  \n",
      " 0   instant     17379 non-null  int64  \n",
      " 1   dteday      17379 non-null  object \n",
      " 2   season      17379 non-null  int64  \n",
      " 3   yr          17379 non-null  int64  \n",
      " 4   mnth        17379 non-null  int64  \n",
      " 5   hr          17379 non-null  int64  \n",
      " 6   holiday     17379 non-null  int64  \n",
      " 7   weekday     17379 non-null  int64  \n",
      " 8   workingday  17379 non-null  int64  \n",
      " 9   weathersit  17379 non-null  int64  \n",
      " 10  temp        17379 non-null  float64\n",
      " 11  atemp       17379 non-null  float64\n",
      " 12  hum         17379 non-null  float64\n",
      " 13  windspeed   17379 non-null  float64\n",
      " 14  casual      17379 non-null  int64  \n",
      " 15  registered  17379 non-null  int64  \n",
      " 16  cnt         17379 non-null  int64  \n",
      "dtypes: float64(4), int64(12), object(1)\n",
      "memory usage: 2.3+ MB\n"
     ]
    }
   ],
   "source": [
    "#pengecekan tipe data dataset hour\n",
    "hour_df.info()"
   ]
  },
  {
   "cell_type": "markdown",
   "metadata": {
    "id": "EhN5R4hr8DC1"
   },
   "source": [
    "### Cleaning Data"
   ]
  },
  {
   "cell_type": "code",
   "execution_count": 55,
   "metadata": {
    "id": "1XRikZ8FENyB"
   },
   "outputs": [],
   "source": [
    "#Data Pre-Processing\n",
    "hour_df['dteday'] = pd.to_datetime(hour_df['dteday'])\n",
    "hour_df['datetime'] = hour_df['dteday'] + pd.to_timedelta(hour_df['hr'], unit='h')\n",
    "hour_df['hour'] = hour_df['datetime'].dt.hour\n",
    "hour_df['weekday'] = hour_df['datetime'].dt.day_name()\n",
    "hour_df['season'] = hour_df['season'].map({1: 'Spring', 2: 'Summer', 3: 'Fall', 4: 'Winter'})\n",
    "hour_df['weathersit'] = hour_df['weathersit'].map({1: 'Clear', 2: 'Mist', 3: 'Light Rain', 4: 'Heavy Rain'})"
   ]
  },
  {
   "cell_type": "code",
   "execution_count": 56,
   "metadata": {
    "colab": {
     "base_uri": "https://localhost:8080/",
     "height": 671
    },
    "id": "DZoTOCqCBwfB",
    "outputId": "c70ca9c2-96ad-4441-8ce3-1e2807838936"
   },
   "outputs": [
    {
     "name": "stdout",
     "output_type": "stream",
     "text": [
      "Dataset Shape: (17379, 19)\n",
      "\n",
      "Missing Values:\n",
      "instant       0\n",
      "dteday        0\n",
      "season        0\n",
      "yr            0\n",
      "mnth          0\n",
      "hr            0\n",
      "holiday       0\n",
      "weekday       0\n",
      "workingday    0\n",
      "weathersit    0\n",
      "temp          0\n",
      "atemp         0\n",
      "hum           0\n",
      "windspeed     0\n",
      "casual        0\n",
      "registered    0\n",
      "cnt           0\n",
      "datetime      0\n",
      "hour          0\n",
      "dtype: int64\n",
      "\n",
      "Summary Statistics:\n"
     ]
    },
    {
     "data": {
      "text/html": [
       "<div>\n",
       "<style scoped>\n",
       "    .dataframe tbody tr th:only-of-type {\n",
       "        vertical-align: middle;\n",
       "    }\n",
       "\n",
       "    .dataframe tbody tr th {\n",
       "        vertical-align: top;\n",
       "    }\n",
       "\n",
       "    .dataframe thead th {\n",
       "        text-align: right;\n",
       "    }\n",
       "</style>\n",
       "<table border=\"1\" class=\"dataframe\">\n",
       "  <thead>\n",
       "    <tr style=\"text-align: right;\">\n",
       "      <th></th>\n",
       "      <th>count</th>\n",
       "      <th>mean</th>\n",
       "      <th>std</th>\n",
       "      <th>min</th>\n",
       "      <th>25%</th>\n",
       "      <th>50%</th>\n",
       "      <th>75%</th>\n",
       "      <th>max</th>\n",
       "    </tr>\n",
       "  </thead>\n",
       "  <tbody>\n",
       "    <tr>\n",
       "      <th>cnt</th>\n",
       "      <td>17379.0</td>\n",
       "      <td>189.463088</td>\n",
       "      <td>181.387599</td>\n",
       "      <td>1.00</td>\n",
       "      <td>40.0000</td>\n",
       "      <td>142.000</td>\n",
       "      <td>281.0000</td>\n",
       "      <td>977.0000</td>\n",
       "    </tr>\n",
       "    <tr>\n",
       "      <th>casual</th>\n",
       "      <td>17379.0</td>\n",
       "      <td>35.676218</td>\n",
       "      <td>49.305030</td>\n",
       "      <td>0.00</td>\n",
       "      <td>4.0000</td>\n",
       "      <td>17.000</td>\n",
       "      <td>48.0000</td>\n",
       "      <td>367.0000</td>\n",
       "    </tr>\n",
       "    <tr>\n",
       "      <th>registered</th>\n",
       "      <td>17379.0</td>\n",
       "      <td>153.786869</td>\n",
       "      <td>151.357286</td>\n",
       "      <td>0.00</td>\n",
       "      <td>34.0000</td>\n",
       "      <td>115.000</td>\n",
       "      <td>220.0000</td>\n",
       "      <td>886.0000</td>\n",
       "    </tr>\n",
       "    <tr>\n",
       "      <th>temp</th>\n",
       "      <td>17379.0</td>\n",
       "      <td>0.496987</td>\n",
       "      <td>0.192556</td>\n",
       "      <td>0.02</td>\n",
       "      <td>0.3400</td>\n",
       "      <td>0.500</td>\n",
       "      <td>0.6600</td>\n",
       "      <td>1.0000</td>\n",
       "    </tr>\n",
       "    <tr>\n",
       "      <th>hum</th>\n",
       "      <td>17379.0</td>\n",
       "      <td>0.627229</td>\n",
       "      <td>0.192930</td>\n",
       "      <td>0.00</td>\n",
       "      <td>0.4800</td>\n",
       "      <td>0.630</td>\n",
       "      <td>0.7800</td>\n",
       "      <td>1.0000</td>\n",
       "    </tr>\n",
       "    <tr>\n",
       "      <th>windspeed</th>\n",
       "      <td>17379.0</td>\n",
       "      <td>0.190098</td>\n",
       "      <td>0.122340</td>\n",
       "      <td>0.00</td>\n",
       "      <td>0.1045</td>\n",
       "      <td>0.194</td>\n",
       "      <td>0.2537</td>\n",
       "      <td>0.8507</td>\n",
       "    </tr>\n",
       "  </tbody>\n",
       "</table>\n",
       "</div>"
      ],
      "text/plain": [
       "              count        mean         std   min      25%      50%       75%  \\\n",
       "cnt         17379.0  189.463088  181.387599  1.00  40.0000  142.000  281.0000   \n",
       "casual      17379.0   35.676218   49.305030  0.00   4.0000   17.000   48.0000   \n",
       "registered  17379.0  153.786869  151.357286  0.00  34.0000  115.000  220.0000   \n",
       "temp        17379.0    0.496987    0.192556  0.02   0.3400    0.500    0.6600   \n",
       "hum         17379.0    0.627229    0.192930  0.00   0.4800    0.630    0.7800   \n",
       "windspeed   17379.0    0.190098    0.122340  0.00   0.1045    0.194    0.2537   \n",
       "\n",
       "                 max  \n",
       "cnt         977.0000  \n",
       "casual      367.0000  \n",
       "registered  886.0000  \n",
       "temp          1.0000  \n",
       "hum           1.0000  \n",
       "windspeed     0.8507  "
      ]
     },
     "execution_count": 56,
     "metadata": {},
     "output_type": "execute_result"
    }
   ],
   "source": [
    "print(\"Dataset Shape:\", hour_df.shape)\n",
    "print(\"\\nMissing Values:\")\n",
    "print(hour_df.isnull().sum())\n",
    "print(\"\\nSummary Statistics:\")\n",
    "hour_df[['cnt', 'casual', 'registered', 'temp', 'hum', 'windspeed']].describe().T"
   ]
  },
  {
   "cell_type": "code",
   "execution_count": 57,
   "metadata": {
    "colab": {
     "base_uri": "https://localhost:8080/",
     "height": 206
    },
    "id": "g4MtVcBj0sOA",
    "outputId": "fa420bff-d0e6-4426-b9b5-6cd62537e5f1"
   },
   "outputs": [
    {
     "data": {
      "text/html": [
       "<div>\n",
       "<style scoped>\n",
       "    .dataframe tbody tr th:only-of-type {\n",
       "        vertical-align: middle;\n",
       "    }\n",
       "\n",
       "    .dataframe tbody tr th {\n",
       "        vertical-align: top;\n",
       "    }\n",
       "\n",
       "    .dataframe thead th {\n",
       "        text-align: right;\n",
       "    }\n",
       "</style>\n",
       "<table border=\"1\" class=\"dataframe\">\n",
       "  <thead>\n",
       "    <tr style=\"text-align: right;\">\n",
       "      <th></th>\n",
       "      <th>instant</th>\n",
       "      <th>dteday</th>\n",
       "      <th>season</th>\n",
       "      <th>yr</th>\n",
       "      <th>mnth</th>\n",
       "      <th>hr</th>\n",
       "      <th>holiday</th>\n",
       "      <th>weekday</th>\n",
       "      <th>workingday</th>\n",
       "      <th>weathersit</th>\n",
       "      <th>temp</th>\n",
       "      <th>atemp</th>\n",
       "      <th>hum</th>\n",
       "      <th>windspeed</th>\n",
       "      <th>casual</th>\n",
       "      <th>registered</th>\n",
       "      <th>cnt</th>\n",
       "      <th>datetime</th>\n",
       "      <th>hour</th>\n",
       "    </tr>\n",
       "  </thead>\n",
       "  <tbody>\n",
       "    <tr>\n",
       "      <th>0</th>\n",
       "      <td>1</td>\n",
       "      <td>2011-01-01</td>\n",
       "      <td>Spring</td>\n",
       "      <td>0</td>\n",
       "      <td>1</td>\n",
       "      <td>0</td>\n",
       "      <td>0</td>\n",
       "      <td>Saturday</td>\n",
       "      <td>0</td>\n",
       "      <td>Clear</td>\n",
       "      <td>0.24</td>\n",
       "      <td>0.2879</td>\n",
       "      <td>0.81</td>\n",
       "      <td>0.0</td>\n",
       "      <td>3</td>\n",
       "      <td>13</td>\n",
       "      <td>16</td>\n",
       "      <td>2011-01-01 00:00:00</td>\n",
       "      <td>0</td>\n",
       "    </tr>\n",
       "    <tr>\n",
       "      <th>1</th>\n",
       "      <td>2</td>\n",
       "      <td>2011-01-01</td>\n",
       "      <td>Spring</td>\n",
       "      <td>0</td>\n",
       "      <td>1</td>\n",
       "      <td>1</td>\n",
       "      <td>0</td>\n",
       "      <td>Saturday</td>\n",
       "      <td>0</td>\n",
       "      <td>Clear</td>\n",
       "      <td>0.22</td>\n",
       "      <td>0.2727</td>\n",
       "      <td>0.80</td>\n",
       "      <td>0.0</td>\n",
       "      <td>8</td>\n",
       "      <td>32</td>\n",
       "      <td>40</td>\n",
       "      <td>2011-01-01 01:00:00</td>\n",
       "      <td>1</td>\n",
       "    </tr>\n",
       "    <tr>\n",
       "      <th>2</th>\n",
       "      <td>3</td>\n",
       "      <td>2011-01-01</td>\n",
       "      <td>Spring</td>\n",
       "      <td>0</td>\n",
       "      <td>1</td>\n",
       "      <td>2</td>\n",
       "      <td>0</td>\n",
       "      <td>Saturday</td>\n",
       "      <td>0</td>\n",
       "      <td>Clear</td>\n",
       "      <td>0.22</td>\n",
       "      <td>0.2727</td>\n",
       "      <td>0.80</td>\n",
       "      <td>0.0</td>\n",
       "      <td>5</td>\n",
       "      <td>27</td>\n",
       "      <td>32</td>\n",
       "      <td>2011-01-01 02:00:00</td>\n",
       "      <td>2</td>\n",
       "    </tr>\n",
       "    <tr>\n",
       "      <th>3</th>\n",
       "      <td>4</td>\n",
       "      <td>2011-01-01</td>\n",
       "      <td>Spring</td>\n",
       "      <td>0</td>\n",
       "      <td>1</td>\n",
       "      <td>3</td>\n",
       "      <td>0</td>\n",
       "      <td>Saturday</td>\n",
       "      <td>0</td>\n",
       "      <td>Clear</td>\n",
       "      <td>0.24</td>\n",
       "      <td>0.2879</td>\n",
       "      <td>0.75</td>\n",
       "      <td>0.0</td>\n",
       "      <td>3</td>\n",
       "      <td>10</td>\n",
       "      <td>13</td>\n",
       "      <td>2011-01-01 03:00:00</td>\n",
       "      <td>3</td>\n",
       "    </tr>\n",
       "    <tr>\n",
       "      <th>4</th>\n",
       "      <td>5</td>\n",
       "      <td>2011-01-01</td>\n",
       "      <td>Spring</td>\n",
       "      <td>0</td>\n",
       "      <td>1</td>\n",
       "      <td>4</td>\n",
       "      <td>0</td>\n",
       "      <td>Saturday</td>\n",
       "      <td>0</td>\n",
       "      <td>Clear</td>\n",
       "      <td>0.24</td>\n",
       "      <td>0.2879</td>\n",
       "      <td>0.75</td>\n",
       "      <td>0.0</td>\n",
       "      <td>0</td>\n",
       "      <td>1</td>\n",
       "      <td>1</td>\n",
       "      <td>2011-01-01 04:00:00</td>\n",
       "      <td>4</td>\n",
       "    </tr>\n",
       "  </tbody>\n",
       "</table>\n",
       "</div>"
      ],
      "text/plain": [
       "   instant     dteday  season  yr  mnth  hr  holiday   weekday  workingday  \\\n",
       "0        1 2011-01-01  Spring   0     1   0        0  Saturday           0   \n",
       "1        2 2011-01-01  Spring   0     1   1        0  Saturday           0   \n",
       "2        3 2011-01-01  Spring   0     1   2        0  Saturday           0   \n",
       "3        4 2011-01-01  Spring   0     1   3        0  Saturday           0   \n",
       "4        5 2011-01-01  Spring   0     1   4        0  Saturday           0   \n",
       "\n",
       "  weathersit  temp   atemp   hum  windspeed  casual  registered  cnt  \\\n",
       "0      Clear  0.24  0.2879  0.81        0.0       3          13   16   \n",
       "1      Clear  0.22  0.2727  0.80        0.0       8          32   40   \n",
       "2      Clear  0.22  0.2727  0.80        0.0       5          27   32   \n",
       "3      Clear  0.24  0.2879  0.75        0.0       3          10   13   \n",
       "4      Clear  0.24  0.2879  0.75        0.0       0           1    1   \n",
       "\n",
       "             datetime  hour  \n",
       "0 2011-01-01 00:00:00     0  \n",
       "1 2011-01-01 01:00:00     1  \n",
       "2 2011-01-01 02:00:00     2  \n",
       "3 2011-01-01 03:00:00     3  \n",
       "4 2011-01-01 04:00:00     4  "
      ]
     },
     "execution_count": 57,
     "metadata": {},
     "output_type": "execute_result"
    }
   ],
   "source": [
    "#print top 5 dataset hour\n",
    "hour_df.head()"
   ]
  },
  {
   "cell_type": "code",
   "execution_count": 58,
   "metadata": {
    "colab": {
     "base_uri": "https://localhost:8080/",
     "height": 441
    },
    "id": "PvPfTaxO01Z3",
    "outputId": "c85a8d65-8e4c-49cc-f5a8-f6c65a824b2f"
   },
   "outputs": [
    {
     "name": "stdout",
     "output_type": "stream",
     "text": [
      "Jumlah duplikasi:  0\n"
     ]
    },
    {
     "data": {
      "text/html": [
       "<div>\n",
       "<style scoped>\n",
       "    .dataframe tbody tr th:only-of-type {\n",
       "        vertical-align: middle;\n",
       "    }\n",
       "\n",
       "    .dataframe tbody tr th {\n",
       "        vertical-align: top;\n",
       "    }\n",
       "\n",
       "    .dataframe thead th {\n",
       "        text-align: right;\n",
       "    }\n",
       "</style>\n",
       "<table border=\"1\" class=\"dataframe\">\n",
       "  <thead>\n",
       "    <tr style=\"text-align: right;\">\n",
       "      <th></th>\n",
       "      <th>instant</th>\n",
       "      <th>dteday</th>\n",
       "      <th>yr</th>\n",
       "      <th>mnth</th>\n",
       "      <th>hr</th>\n",
       "      <th>holiday</th>\n",
       "      <th>workingday</th>\n",
       "      <th>temp</th>\n",
       "      <th>atemp</th>\n",
       "      <th>hum</th>\n",
       "      <th>windspeed</th>\n",
       "      <th>casual</th>\n",
       "      <th>registered</th>\n",
       "      <th>cnt</th>\n",
       "      <th>datetime</th>\n",
       "      <th>hour</th>\n",
       "    </tr>\n",
       "  </thead>\n",
       "  <tbody>\n",
       "    <tr>\n",
       "      <th>count</th>\n",
       "      <td>17379.0000</td>\n",
       "      <td>17379</td>\n",
       "      <td>17379.000000</td>\n",
       "      <td>17379.000000</td>\n",
       "      <td>17379.000000</td>\n",
       "      <td>17379.000000</td>\n",
       "      <td>17379.000000</td>\n",
       "      <td>17379.000000</td>\n",
       "      <td>17379.000000</td>\n",
       "      <td>17379.000000</td>\n",
       "      <td>17379.000000</td>\n",
       "      <td>17379.000000</td>\n",
       "      <td>17379.000000</td>\n",
       "      <td>17379.000000</td>\n",
       "      <td>17379</td>\n",
       "      <td>17379.000000</td>\n",
       "    </tr>\n",
       "    <tr>\n",
       "      <th>mean</th>\n",
       "      <td>8690.0000</td>\n",
       "      <td>2012-01-02 04:08:34.552045568</td>\n",
       "      <td>0.502561</td>\n",
       "      <td>6.537775</td>\n",
       "      <td>11.546752</td>\n",
       "      <td>0.028770</td>\n",
       "      <td>0.682721</td>\n",
       "      <td>0.496987</td>\n",
       "      <td>0.475775</td>\n",
       "      <td>0.627229</td>\n",
       "      <td>0.190098</td>\n",
       "      <td>35.676218</td>\n",
       "      <td>153.786869</td>\n",
       "      <td>189.463088</td>\n",
       "      <td>2012-01-02 15:41:22.858622464</td>\n",
       "      <td>11.546752</td>\n",
       "    </tr>\n",
       "    <tr>\n",
       "      <th>min</th>\n",
       "      <td>1.0000</td>\n",
       "      <td>2011-01-01 00:00:00</td>\n",
       "      <td>0.000000</td>\n",
       "      <td>1.000000</td>\n",
       "      <td>0.000000</td>\n",
       "      <td>0.000000</td>\n",
       "      <td>0.000000</td>\n",
       "      <td>0.020000</td>\n",
       "      <td>0.000000</td>\n",
       "      <td>0.000000</td>\n",
       "      <td>0.000000</td>\n",
       "      <td>0.000000</td>\n",
       "      <td>0.000000</td>\n",
       "      <td>1.000000</td>\n",
       "      <td>2011-01-01 00:00:00</td>\n",
       "      <td>0.000000</td>\n",
       "    </tr>\n",
       "    <tr>\n",
       "      <th>25%</th>\n",
       "      <td>4345.5000</td>\n",
       "      <td>2011-07-04 00:00:00</td>\n",
       "      <td>0.000000</td>\n",
       "      <td>4.000000</td>\n",
       "      <td>6.000000</td>\n",
       "      <td>0.000000</td>\n",
       "      <td>0.000000</td>\n",
       "      <td>0.340000</td>\n",
       "      <td>0.333300</td>\n",
       "      <td>0.480000</td>\n",
       "      <td>0.104500</td>\n",
       "      <td>4.000000</td>\n",
       "      <td>34.000000</td>\n",
       "      <td>40.000000</td>\n",
       "      <td>2011-07-04 22:30:00</td>\n",
       "      <td>6.000000</td>\n",
       "    </tr>\n",
       "    <tr>\n",
       "      <th>50%</th>\n",
       "      <td>8690.0000</td>\n",
       "      <td>2012-01-02 00:00:00</td>\n",
       "      <td>1.000000</td>\n",
       "      <td>7.000000</td>\n",
       "      <td>12.000000</td>\n",
       "      <td>0.000000</td>\n",
       "      <td>1.000000</td>\n",
       "      <td>0.500000</td>\n",
       "      <td>0.484800</td>\n",
       "      <td>0.630000</td>\n",
       "      <td>0.194000</td>\n",
       "      <td>17.000000</td>\n",
       "      <td>115.000000</td>\n",
       "      <td>142.000000</td>\n",
       "      <td>2012-01-02 21:00:00</td>\n",
       "      <td>12.000000</td>\n",
       "    </tr>\n",
       "    <tr>\n",
       "      <th>75%</th>\n",
       "      <td>13034.5000</td>\n",
       "      <td>2012-07-02 00:00:00</td>\n",
       "      <td>1.000000</td>\n",
       "      <td>10.000000</td>\n",
       "      <td>18.000000</td>\n",
       "      <td>0.000000</td>\n",
       "      <td>1.000000</td>\n",
       "      <td>0.660000</td>\n",
       "      <td>0.621200</td>\n",
       "      <td>0.780000</td>\n",
       "      <td>0.253700</td>\n",
       "      <td>48.000000</td>\n",
       "      <td>220.000000</td>\n",
       "      <td>281.000000</td>\n",
       "      <td>2012-07-02 06:30:00</td>\n",
       "      <td>18.000000</td>\n",
       "    </tr>\n",
       "    <tr>\n",
       "      <th>max</th>\n",
       "      <td>17379.0000</td>\n",
       "      <td>2012-12-31 00:00:00</td>\n",
       "      <td>1.000000</td>\n",
       "      <td>12.000000</td>\n",
       "      <td>23.000000</td>\n",
       "      <td>1.000000</td>\n",
       "      <td>1.000000</td>\n",
       "      <td>1.000000</td>\n",
       "      <td>1.000000</td>\n",
       "      <td>1.000000</td>\n",
       "      <td>0.850700</td>\n",
       "      <td>367.000000</td>\n",
       "      <td>886.000000</td>\n",
       "      <td>977.000000</td>\n",
       "      <td>2012-12-31 23:00:00</td>\n",
       "      <td>23.000000</td>\n",
       "    </tr>\n",
       "    <tr>\n",
       "      <th>std</th>\n",
       "      <td>5017.0295</td>\n",
       "      <td>NaN</td>\n",
       "      <td>0.500008</td>\n",
       "      <td>3.438776</td>\n",
       "      <td>6.914405</td>\n",
       "      <td>0.167165</td>\n",
       "      <td>0.465431</td>\n",
       "      <td>0.192556</td>\n",
       "      <td>0.171850</td>\n",
       "      <td>0.192930</td>\n",
       "      <td>0.122340</td>\n",
       "      <td>49.305030</td>\n",
       "      <td>151.357286</td>\n",
       "      <td>181.387599</td>\n",
       "      <td>NaN</td>\n",
       "      <td>6.914405</td>\n",
       "    </tr>\n",
       "  </tbody>\n",
       "</table>\n",
       "</div>"
      ],
      "text/plain": [
       "          instant                         dteday            yr          mnth  \\\n",
       "count  17379.0000                          17379  17379.000000  17379.000000   \n",
       "mean    8690.0000  2012-01-02 04:08:34.552045568      0.502561      6.537775   \n",
       "min        1.0000            2011-01-01 00:00:00      0.000000      1.000000   \n",
       "25%     4345.5000            2011-07-04 00:00:00      0.000000      4.000000   \n",
       "50%     8690.0000            2012-01-02 00:00:00      1.000000      7.000000   \n",
       "75%    13034.5000            2012-07-02 00:00:00      1.000000     10.000000   \n",
       "max    17379.0000            2012-12-31 00:00:00      1.000000     12.000000   \n",
       "std     5017.0295                            NaN      0.500008      3.438776   \n",
       "\n",
       "                 hr       holiday    workingday          temp         atemp  \\\n",
       "count  17379.000000  17379.000000  17379.000000  17379.000000  17379.000000   \n",
       "mean      11.546752      0.028770      0.682721      0.496987      0.475775   \n",
       "min        0.000000      0.000000      0.000000      0.020000      0.000000   \n",
       "25%        6.000000      0.000000      0.000000      0.340000      0.333300   \n",
       "50%       12.000000      0.000000      1.000000      0.500000      0.484800   \n",
       "75%       18.000000      0.000000      1.000000      0.660000      0.621200   \n",
       "max       23.000000      1.000000      1.000000      1.000000      1.000000   \n",
       "std        6.914405      0.167165      0.465431      0.192556      0.171850   \n",
       "\n",
       "                hum     windspeed        casual    registered           cnt  \\\n",
       "count  17379.000000  17379.000000  17379.000000  17379.000000  17379.000000   \n",
       "mean       0.627229      0.190098     35.676218    153.786869    189.463088   \n",
       "min        0.000000      0.000000      0.000000      0.000000      1.000000   \n",
       "25%        0.480000      0.104500      4.000000     34.000000     40.000000   \n",
       "50%        0.630000      0.194000     17.000000    115.000000    142.000000   \n",
       "75%        0.780000      0.253700     48.000000    220.000000    281.000000   \n",
       "max        1.000000      0.850700    367.000000    886.000000    977.000000   \n",
       "std        0.192930      0.122340     49.305030    151.357286    181.387599   \n",
       "\n",
       "                            datetime          hour  \n",
       "count                          17379  17379.000000  \n",
       "mean   2012-01-02 15:41:22.858622464     11.546752  \n",
       "min              2011-01-01 00:00:00      0.000000  \n",
       "25%              2011-07-04 22:30:00      6.000000  \n",
       "50%              2012-01-02 21:00:00     12.000000  \n",
       "75%              2012-07-02 06:30:00     18.000000  \n",
       "max              2012-12-31 23:00:00     23.000000  \n",
       "std                              NaN      6.914405  "
      ]
     },
     "execution_count": 58,
     "metadata": {},
     "output_type": "execute_result"
    }
   ],
   "source": [
    "print(\"Jumlah duplikasi: \", hour_df.duplicated().sum())\n",
    "hour_df.describe()\n"
   ]
  },
  {
   "cell_type": "markdown",
   "metadata": {
    "id": "gp-Y6wU38DC1"
   },
   "source": [
    "## Exploratory Data Analysis (EDA)"
   ]
  },
  {
   "cell_type": "markdown",
   "metadata": {
    "id": "9DpYydkEAMzx"
   },
   "source": []
  },
  {
   "cell_type": "markdown",
   "metadata": {
    "id": "MW7WF2kr8DC1"
   },
   "source": [
    "### Exploratory"
   ]
  },
  {
   "cell_type": "markdown",
   "metadata": {
    "id": "zBzCTyj8ApcS"
   },
   "source": [
    "Hourly Usage Patterns"
   ]
  },
  {
   "cell_type": "code",
   "execution_count": 59,
   "metadata": {
    "colab": {
     "base_uri": "https://localhost:8080/",
     "height": 335
    },
    "id": "21CaKEwVFwFa",
    "outputId": "34716857-8237-4af8-db59-de0898ad26dd"
   },
   "outputs": [
    {
     "data": {
      "text/plain": [
       "count     24.000000\n",
       "mean     188.478966\n",
       "std      131.474361\n",
       "min        6.352941\n",
       "25%       70.507621\n",
       "50%      210.103851\n",
       "75%      253.402245\n",
       "max      461.452055\n",
       "Name: cnt, dtype: float64"
      ]
     },
     "execution_count": 59,
     "metadata": {},
     "output_type": "execute_result"
    }
   ],
   "source": [
    "#Hourly Usage Patterns\n",
    "hourly_avg = hour_df.groupby('hr')['cnt'].mean()\n",
    "hourly_avg.describe(include=\"all\")"
   ]
  },
  {
   "cell_type": "markdown",
   "metadata": {
    "id": "4_FtRZZ9A2yn"
   },
   "source": [
    "User Type Analysis"
   ]
  },
  {
   "cell_type": "code",
   "execution_count": 60,
   "metadata": {
    "colab": {
     "base_uri": "https://localhost:8080/",
     "height": 300
    },
    "id": "RIPKJKymKq5A",
    "outputId": "0bb3dca6-4fe4-4f44-dfe1-383194e38311"
   },
   "outputs": [
    {
     "data": {
      "text/html": [
       "<div>\n",
       "<style scoped>\n",
       "    .dataframe tbody tr th:only-of-type {\n",
       "        vertical-align: middle;\n",
       "    }\n",
       "\n",
       "    .dataframe tbody tr th {\n",
       "        vertical-align: top;\n",
       "    }\n",
       "\n",
       "    .dataframe thead th {\n",
       "        text-align: right;\n",
       "    }\n",
       "</style>\n",
       "<table border=\"1\" class=\"dataframe\">\n",
       "  <thead>\n",
       "    <tr style=\"text-align: right;\">\n",
       "      <th></th>\n",
       "      <th>casual</th>\n",
       "      <th>registered</th>\n",
       "    </tr>\n",
       "  </thead>\n",
       "  <tbody>\n",
       "    <tr>\n",
       "      <th>count</th>\n",
       "      <td>24.000000</td>\n",
       "      <td>24.000000</td>\n",
       "    </tr>\n",
       "    <tr>\n",
       "      <th>mean</th>\n",
       "      <td>35.481185</td>\n",
       "      <td>152.997781</td>\n",
       "    </tr>\n",
       "    <tr>\n",
       "      <th>std</th>\n",
       "      <td>28.249635</td>\n",
       "      <td>110.873223</td>\n",
       "    </tr>\n",
       "    <tr>\n",
       "      <th>min</th>\n",
       "      <td>1.253945</td>\n",
       "      <td>5.098996</td>\n",
       "    </tr>\n",
       "    <tr>\n",
       "      <th>25%</th>\n",
       "      <td>9.244838</td>\n",
       "      <td>64.846986</td>\n",
       "    </tr>\n",
       "    <tr>\n",
       "      <th>50%</th>\n",
       "      <td>29.573414</td>\n",
       "      <td>156.991910</td>\n",
       "    </tr>\n",
       "    <tr>\n",
       "      <th>75%</th>\n",
       "      <td>62.914148</td>\n",
       "      <td>192.599935</td>\n",
       "    </tr>\n",
       "    <tr>\n",
       "      <th>max</th>\n",
       "      <td>75.567901</td>\n",
       "      <td>387.178082</td>\n",
       "    </tr>\n",
       "  </tbody>\n",
       "</table>\n",
       "</div>"
      ],
      "text/plain": [
       "          casual  registered\n",
       "count  24.000000   24.000000\n",
       "mean   35.481185  152.997781\n",
       "std    28.249635  110.873223\n",
       "min     1.253945    5.098996\n",
       "25%     9.244838   64.846986\n",
       "50%    29.573414  156.991910\n",
       "75%    62.914148  192.599935\n",
       "max    75.567901  387.178082"
      ]
     },
     "execution_count": 60,
     "metadata": {},
     "output_type": "execute_result"
    }
   ],
   "source": [
    "user_types = hour_df.groupby('hr')[['casual', 'registered']].mean()\n",
    "user_types.describe(include=\"all\")"
   ]
  },
  {
   "cell_type": "markdown",
   "metadata": {
    "id": "Fle48HUvBGyZ"
   },
   "source": [
    "Weekly Pattern Heatmap"
   ]
  },
  {
   "cell_type": "code",
   "execution_count": 61,
   "metadata": {
    "colab": {
     "base_uri": "https://localhost:8080/",
     "height": 349
    },
    "id": "zkeeDT3QLh8X",
    "outputId": "14d125e1-2009-4b00-d934-1fd9fe1f31e2"
   },
   "outputs": [
    {
     "data": {
      "text/html": [
       "<div>\n",
       "<style scoped>\n",
       "    .dataframe tbody tr th:only-of-type {\n",
       "        vertical-align: middle;\n",
       "    }\n",
       "\n",
       "    .dataframe tbody tr th {\n",
       "        vertical-align: top;\n",
       "    }\n",
       "\n",
       "    .dataframe thead th {\n",
       "        text-align: right;\n",
       "    }\n",
       "</style>\n",
       "<table border=\"1\" class=\"dataframe\">\n",
       "  <thead>\n",
       "    <tr style=\"text-align: right;\">\n",
       "      <th>hr</th>\n",
       "      <th>0</th>\n",
       "      <th>1</th>\n",
       "      <th>2</th>\n",
       "      <th>3</th>\n",
       "      <th>4</th>\n",
       "      <th>5</th>\n",
       "      <th>6</th>\n",
       "      <th>7</th>\n",
       "      <th>8</th>\n",
       "      <th>9</th>\n",
       "      <th>...</th>\n",
       "      <th>14</th>\n",
       "      <th>15</th>\n",
       "      <th>16</th>\n",
       "      <th>17</th>\n",
       "      <th>18</th>\n",
       "      <th>19</th>\n",
       "      <th>20</th>\n",
       "      <th>21</th>\n",
       "      <th>22</th>\n",
       "      <th>23</th>\n",
       "    </tr>\n",
       "  </thead>\n",
       "  <tbody>\n",
       "    <tr>\n",
       "      <th>count</th>\n",
       "      <td>7.000000</td>\n",
       "      <td>7.000000</td>\n",
       "      <td>7.000000</td>\n",
       "      <td>7.000000</td>\n",
       "      <td>7.000000</td>\n",
       "      <td>7.000000</td>\n",
       "      <td>7.000000</td>\n",
       "      <td>7.000000</td>\n",
       "      <td>7.000000</td>\n",
       "      <td>7.000000</td>\n",
       "      <td>...</td>\n",
       "      <td>7.000000</td>\n",
       "      <td>7.000000</td>\n",
       "      <td>7.000000</td>\n",
       "      <td>7.000000</td>\n",
       "      <td>7.000000</td>\n",
       "      <td>7.000000</td>\n",
       "      <td>7.000000</td>\n",
       "      <td>7.000000</td>\n",
       "      <td>7.000000</td>\n",
       "      <td>7.000000</td>\n",
       "    </tr>\n",
       "    <tr>\n",
       "      <th>mean</th>\n",
       "      <td>53.741523</td>\n",
       "      <td>33.191761</td>\n",
       "      <td>22.706968</td>\n",
       "      <td>11.407697</td>\n",
       "      <td>6.322547</td>\n",
       "      <td>19.808700</td>\n",
       "      <td>76.161995</td>\n",
       "      <td>212.906680</td>\n",
       "      <td>360.212649</td>\n",
       "      <td>219.517091</td>\n",
       "      <td>...</td>\n",
       "      <td>240.500826</td>\n",
       "      <td>250.836695</td>\n",
       "      <td>311.849529</td>\n",
       "      <td>461.822554</td>\n",
       "      <td>425.815111</td>\n",
       "      <td>311.704710</td>\n",
       "      <td>226.151967</td>\n",
       "      <td>172.406624</td>\n",
       "      <td>131.403249</td>\n",
       "      <td>87.861048</td>\n",
       "    </tr>\n",
       "    <tr>\n",
       "      <th>std</th>\n",
       "      <td>28.623826</td>\n",
       "      <td>27.319172</td>\n",
       "      <td>23.087928</td>\n",
       "      <td>10.949219</td>\n",
       "      <td>1.618309</td>\n",
       "      <td>7.858271</td>\n",
       "      <td>40.890209</td>\n",
       "      <td>120.723102</td>\n",
       "      <td>180.377383</td>\n",
       "      <td>35.824557</td>\n",
       "      <td>...</td>\n",
       "      <td>92.611226</td>\n",
       "      <td>83.842041</td>\n",
       "      <td>38.207689</td>\n",
       "      <td>93.991016</td>\n",
       "      <td>102.759529</td>\n",
       "      <td>57.482443</td>\n",
       "      <td>39.449899</td>\n",
       "      <td>24.560769</td>\n",
       "      <td>19.793108</td>\n",
       "      <td>22.146955</td>\n",
       "    </tr>\n",
       "    <tr>\n",
       "      <th>min</th>\n",
       "      <td>27.623762</td>\n",
       "      <td>12.540000</td>\n",
       "      <td>6.801980</td>\n",
       "      <td>4.152174</td>\n",
       "      <td>4.968750</td>\n",
       "      <td>8.291262</td>\n",
       "      <td>14.495146</td>\n",
       "      <td>33.104762</td>\n",
       "      <td>83.857143</td>\n",
       "      <td>156.542857</td>\n",
       "      <td>...</td>\n",
       "      <td>168.365385</td>\n",
       "      <td>181.288462</td>\n",
       "      <td>272.961538</td>\n",
       "      <td>318.771429</td>\n",
       "      <td>272.628571</td>\n",
       "      <td>225.476190</td>\n",
       "      <td>168.028571</td>\n",
       "      <td>127.647619</td>\n",
       "      <td>94.123810</td>\n",
       "      <td>61.895238</td>\n",
       "    </tr>\n",
       "    <tr>\n",
       "      <th>25%</th>\n",
       "      <td>34.283608</td>\n",
       "      <td>16.279920</td>\n",
       "      <td>8.485294</td>\n",
       "      <td>4.980159</td>\n",
       "      <td>5.205657</td>\n",
       "      <td>15.173862</td>\n",
       "      <td>53.432692</td>\n",
       "      <td>147.250183</td>\n",
       "      <td>263.334249</td>\n",
       "      <td>202.616392</td>\n",
       "      <td>...</td>\n",
       "      <td>174.055592</td>\n",
       "      <td>191.689787</td>\n",
       "      <td>285.375000</td>\n",
       "      <td>413.411493</td>\n",
       "      <td>356.519231</td>\n",
       "      <td>271.000000</td>\n",
       "      <td>197.096154</td>\n",
       "      <td>162.937500</td>\n",
       "      <td>124.019231</td>\n",
       "      <td>70.788462</td>\n",
       "    </tr>\n",
       "    <tr>\n",
       "      <th>50%</th>\n",
       "      <td>39.271845</td>\n",
       "      <td>17.307692</td>\n",
       "      <td>10.313131</td>\n",
       "      <td>5.113402</td>\n",
       "      <td>5.785714</td>\n",
       "      <td>23.903846</td>\n",
       "      <td>90.028846</td>\n",
       "      <td>254.326923</td>\n",
       "      <td>462.278846</td>\n",
       "      <td>236.450980</td>\n",
       "      <td>...</td>\n",
       "      <td>192.701923</td>\n",
       "      <td>202.365385</td>\n",
       "      <td>286.701923</td>\n",
       "      <td>502.394231</td>\n",
       "      <td>481.346154</td>\n",
       "      <td>344.576923</td>\n",
       "      <td>242.076923</td>\n",
       "      <td>174.538462</td>\n",
       "      <td>139.663462</td>\n",
       "      <td>83.737864</td>\n",
       "    </tr>\n",
       "    <tr>\n",
       "      <th>75%</th>\n",
       "      <td>73.211538</td>\n",
       "      <td>46.251053</td>\n",
       "      <td>31.617811</td>\n",
       "      <td>14.741877</td>\n",
       "      <td>6.864654</td>\n",
       "      <td>25.102723</td>\n",
       "      <td>106.968447</td>\n",
       "      <td>301.838424</td>\n",
       "      <td>480.055618</td>\n",
       "      <td>239.701316</td>\n",
       "      <td>...</td>\n",
       "      <td>296.496978</td>\n",
       "      <td>303.197436</td>\n",
       "      <td>343.195192</td>\n",
       "      <td>520.245192</td>\n",
       "      <td>498.062640</td>\n",
       "      <td>355.713966</td>\n",
       "      <td>254.926251</td>\n",
       "      <td>190.450336</td>\n",
       "      <td>145.378314</td>\n",
       "      <td>105.980769</td>\n",
       "    </tr>\n",
       "    <tr>\n",
       "      <th>max</th>\n",
       "      <td>94.304762</td>\n",
       "      <td>77.432692</td>\n",
       "      <td>61.627451</td>\n",
       "      <td>31.144231</td>\n",
       "      <td>9.362745</td>\n",
       "      <td>25.912621</td>\n",
       "      <td>107.807692</td>\n",
       "      <td>304.737864</td>\n",
       "      <td>488.572816</td>\n",
       "      <td>258.990385</td>\n",
       "      <td>...</td>\n",
       "      <td>381.333333</td>\n",
       "      <td>382.428571</td>\n",
       "      <td>366.142857</td>\n",
       "      <td>544.278846</td>\n",
       "      <td>517.567308</td>\n",
       "      <td>358.451923</td>\n",
       "      <td>268.913462</td>\n",
       "      <td>197.884615</td>\n",
       "      <td>147.240385</td>\n",
       "      <td>115.855769</td>\n",
       "    </tr>\n",
       "  </tbody>\n",
       "</table>\n",
       "<p>8 rows × 24 columns</p>\n",
       "</div>"
      ],
      "text/plain": [
       "hr            0          1          2          3         4          5   \\\n",
       "count   7.000000   7.000000   7.000000   7.000000  7.000000   7.000000   \n",
       "mean   53.741523  33.191761  22.706968  11.407697  6.322547  19.808700   \n",
       "std    28.623826  27.319172  23.087928  10.949219  1.618309   7.858271   \n",
       "min    27.623762  12.540000   6.801980   4.152174  4.968750   8.291262   \n",
       "25%    34.283608  16.279920   8.485294   4.980159  5.205657  15.173862   \n",
       "50%    39.271845  17.307692  10.313131   5.113402  5.785714  23.903846   \n",
       "75%    73.211538  46.251053  31.617811  14.741877  6.864654  25.102723   \n",
       "max    94.304762  77.432692  61.627451  31.144231  9.362745  25.912621   \n",
       "\n",
       "hr             6           7           8           9   ...          14  \\\n",
       "count    7.000000    7.000000    7.000000    7.000000  ...    7.000000   \n",
       "mean    76.161995  212.906680  360.212649  219.517091  ...  240.500826   \n",
       "std     40.890209  120.723102  180.377383   35.824557  ...   92.611226   \n",
       "min     14.495146   33.104762   83.857143  156.542857  ...  168.365385   \n",
       "25%     53.432692  147.250183  263.334249  202.616392  ...  174.055592   \n",
       "50%     90.028846  254.326923  462.278846  236.450980  ...  192.701923   \n",
       "75%    106.968447  301.838424  480.055618  239.701316  ...  296.496978   \n",
       "max    107.807692  304.737864  488.572816  258.990385  ...  381.333333   \n",
       "\n",
       "hr             15          16          17          18          19          20  \\\n",
       "count    7.000000    7.000000    7.000000    7.000000    7.000000    7.000000   \n",
       "mean   250.836695  311.849529  461.822554  425.815111  311.704710  226.151967   \n",
       "std     83.842041   38.207689   93.991016  102.759529   57.482443   39.449899   \n",
       "min    181.288462  272.961538  318.771429  272.628571  225.476190  168.028571   \n",
       "25%    191.689787  285.375000  413.411493  356.519231  271.000000  197.096154   \n",
       "50%    202.365385  286.701923  502.394231  481.346154  344.576923  242.076923   \n",
       "75%    303.197436  343.195192  520.245192  498.062640  355.713966  254.926251   \n",
       "max    382.428571  366.142857  544.278846  517.567308  358.451923  268.913462   \n",
       "\n",
       "hr             21          22          23  \n",
       "count    7.000000    7.000000    7.000000  \n",
       "mean   172.406624  131.403249   87.861048  \n",
       "std     24.560769   19.793108   22.146955  \n",
       "min    127.647619   94.123810   61.895238  \n",
       "25%    162.937500  124.019231   70.788462  \n",
       "50%    174.538462  139.663462   83.737864  \n",
       "75%    190.450336  145.378314  105.980769  \n",
       "max    197.884615  147.240385  115.855769  \n",
       "\n",
       "[8 rows x 24 columns]"
      ]
     },
     "execution_count": 61,
     "metadata": {},
     "output_type": "execute_result"
    }
   ],
   "source": [
    "weekday_order = ['Monday', 'Tuesday', 'Wednesday', 'Thursday', 'Friday', 'Saturday', 'Sunday']\n",
    "heatmap_data = hour_df.groupby(['weekday', 'hr'])['cnt'].mean().unstack()\n",
    "heatmap_data.describe(include=(\"all\"))"
   ]
  },
  {
   "cell_type": "markdown",
   "metadata": {
    "id": "zsyZjqak8DC2"
   },
   "source": [
    "## Visualization & Explanatory Analysis"
   ]
  },
  {
   "cell_type": "markdown",
   "metadata": {
    "id": "9SDJIH5nBUcK"
   },
   "source": [
    "Average Hourly Rentals Pattern"
   ]
  },
  {
   "cell_type": "code",
   "execution_count": 62,
   "metadata": {
    "colab": {
     "base_uri": "https://localhost:8080/",
     "height": 565
    },
    "id": "L4w-AkQWCDdH",
    "outputId": "7d63811f-0395-4c6a-a593-c816dd63c2fb"
   },
   "outputs": [
    {
     "data": {
      "image/png": "[encoded data removed]",
      "text/plain": [
       "<Figure size 1200x600 with 1 Axes>"
      ]
     },
     "metadata": {},
     "output_type": "display_data"
    }
   ],
   "source": [
    "plt.figure(figsize=(12, 6))\n",
    "sns.lineplot(x=hourly_avg.index, y=hourly_avg.values, color='#2ca02c')\n",
    "plt.title('Average Hourly Rentals Pattern', fontsize=14)\n",
    "plt.xlabel('Hour of Day')\n",
    "plt.ylabel('Average Rentals')\n",
    "plt.xticks(range(0, 24))\n",
    "plt.grid(True, alpha=0.3)\n",
    "plt.show()"
   ]
  },
  {
   "cell_type": "markdown",
   "metadata": {
    "id": "jgR6qMSdBcr-"
   },
   "source": [
    "Hourly Usage by User Type"
   ]
  },
  {
   "cell_type": "code",
   "execution_count": 63,
   "metadata": {
    "colab": {
     "base_uri": "https://localhost:8080/",
     "height": 563
    },
    "id": "WuKbf41PK3cQ",
    "outputId": "472fc703-7979-4f33-fe27-06904b9b17b7"
   },
   "outputs": [
    {
     "data": {
      "image/png": "[encoded data removed]",
      "text/plain": [
       "<Figure size 1400x600 with 1 Axes>"
      ]
     },
     "metadata": {},
     "output_type": "display_data"
    }
   ],
   "source": [
    "plt.figure(figsize=(14, 6))\n",
    "sns.lineplot(data=user_types, palette=['#ff7f0e', '#1f77b4'])\n",
    "plt.title('Hourly Usage by User Type', fontsize=14)\n",
    "plt.xlabel('Hour of Day')\n",
    "plt.ylabel('Average Rentals')\n",
    "plt.xticks(range(0, 24))\n",
    "plt.legend(title='User Type')\n",
    "plt.grid(True, alpha=0.3)\n",
    "plt.show()"
   ]
  },
  {
   "cell_type": "markdown",
   "metadata": {
    "id": "pxr-cR4eBiTB"
   },
   "source": [
    "Weekly Rental Patterns"
   ]
  },
  {
   "cell_type": "code",
   "execution_count": 64,
   "metadata": {
    "colab": {
     "base_uri": "https://localhost:8080/",
     "height": 719
    },
    "id": "fANSvEZJL-hz",
    "outputId": "8a67c84c-6b11-4347-8754-17c739ea98e2"
   },
   "outputs": [
    {
     "data": {
      "image/png": "[encoded data removed]",
      "text/plain": [
       "<Figure size 1400x800 with 2 Axes>"
      ]
     },
     "metadata": {},
     "output_type": "display_data"
    }
   ],
   "source": [
    "plt.figure(figsize=(14, 8))\n",
    "sns.heatmap(heatmap_data.loc[weekday_order], cmap='YlGnBu', annot=False)\n",
    "plt.title('Weekly Rental Patterns', fontsize=14)\n",
    "plt.xlabel('Hour of Day')\n",
    "plt.ylabel('Weekday')\n",
    "plt.show()"
   ]
  },
  {
   "cell_type": "markdown",
   "metadata": {
    "id": "_WeHlCeX8DC2"
   },
   "source": [
    "## Kesimpulan"
   ]
  },
  {
   "cell_type": "markdown",
   "metadata": {
    "id": "ZTcyR48Y8DC2"
   },
   "source": [
    "**Kesimpulan Pertanyaan 1**\n",
    "\n",
    "**Distribusi Penyewaan Sepeda per Jam dalam Sehari**\n",
    "Pola Umum:\n",
    "Grafik menunjukkan pola distribusi yang mengikuti aktivitas harian masyarakat dengan dua puncak utama (bimodal pattern).\n",
    "Jam-jam dengan Lonjakan Tertinggi:\n",
    " - Puncak tertinggi terjadi pada jam 17:00 (5 sore) dengan sekitar 460 penyewaan rata-rata\n",
    " - Puncak kedua terjadi pada jam 8:00 (8 pagi) dengan sekitar 360 penyewaan rata-rata\n",
    "\n",
    "**Jam-jam dengan Penurunan Signifikan:**\n",
    "Titik terendah terjadi pada jam 4:00 (4 pagi) dengan hampir 0 penyewaan\n",
    "Penurunan drastis terjadi setelah jam 19:00 hingga jam 5:00 pagi\n",
    "Penurunan sementara terjadi pada jam 10:00 (turun ke ~180 penyewaan) setelah peak pagi\n",
    "\n",
    "**Interpretasi Bisnis:**\n",
    "Pola ini mencerminkan kebiasaan commuting pekerja/pelajar:\n",
    " - Peak pagi (jam 8) menunjukkan perjalanan ke tempat kerja/sekolah\n",
    " - Peak sore (jam 17) menunjukkan perjalanan pulang kerja\n",
    " - Aktivitas minimal pada dini hari (jam 0-5)\n",
    " - Periode siang hari (jam 12-14) menunjukkan aktivitas yang cukup stabil sekitar 250 penyewaan\n",
    "\n",
    "**Rekomendasi Operasional:**\n",
    " - Siapkan lebih banyak sepeda di jam 7-9 pagi dan 16-18 sore\n",
    " - Lakukan maintenance pada jam 2-5 pagi ketika permintaan minimal\n",
    " - Pertimbangkan strategi redistribusi sepeda antara jam sibuk pagi dan sore\n",
    "\n",
    "**Kesimpulan Pertanyaan 2**\n",
    "\n",
    "**Perbandingan Penggunaan Sepeda antara Registered dan Casual Users**\n",
    "\n",
    "**Pola Penggunaan Registered Users (Garis Putus-putus Biru):**\n",
    "Menunjukkan pola **bimodal yang sangat jelas** dengan dua puncak tajam\n",
    "**Puncak pagi:** Jam 8:00 (~330 rentals)\n",
    "**Puncak sore:** Jam 17:00 (~390 rentals) - tertinggi sepanjang hari\n",
    "**Pola commuting yang khas:** Naik drastis jam 6-8 pagi, turun jam 9-10, stabil siang hari (~180-190), naik lagi jam 16-17\n",
    "Aktivitas minimal pada dini hari (jam 0-5) dan malam hari (setelah jam 19)\n",
    "\n",
    "**Pola Penggunaan Casual Users (Garis Solid Oranye):**\n",
    "Menunjukkan pola unimodal yang lebih landai\n",
    "Puncak tunggal: Jam 17:00 (~75 rentals)\n",
    "Aktivitas bertahap: Mulai naik jam 6 pagi, terus meningkat hingga sore\n",
    "Relatif stabil sepanjang hari siang (jam 11-17) sekitar 60-75 rentals\n",
    "Tidak ada lonjakan tajam seperti registered users\n",
    "\n",
    "**Perbedaan Signifikan:**\n",
    "\n",
    "**Volume Penggunaan:**\n",
    "Registered users mendominasi dengan volume 4-5x lebih tinggi dari casual users\n",
    "Peak registered users (~390) vs peak casual users (~75)\n",
    "\n",
    "**Intensitas pada Jam Tertentu:**\n",
    "**Jam 6-9 pagi:** Perbedaan sangat signifikan - registered users naik drastis untuk commuting, casual users masih minimal\n",
    "**Jam 16-18 sore:** Perbedaan terbesar - registered users mencapai puncak tertinggi, casual users hanya meningkat sedikit\n",
    "**Jam 10-15 siang:** Perbedaan paling kecil - registered users turun, casual users relatif stabil\n",
    "\n",
    "**Karakteristik Perilaku:**\n",
    "Registered users: Perilaku commuting yang jelas (rumah-kerja-rumah)\n",
    "Casual users: Perilaku rekreasional/leisure yang lebih merata sepanjang hari\n",
    "\n",
    "**Interpretasi Bisnis:**\n",
    "Registered users adalah segmen utama yang menggunakan sepeda untuk transportasi reguler (commuting)\n",
    "Casual users cenderung menggunakan sepeda untuk aktivitas santai/rekreasi\n",
    "Strategi operasional harus fokus pada kebutuhan registered users di jam-jam commuting\n",
    "Potensi peningkatan casual users pada jam-jam non-peak dan akhir pekan\n",
    "\n",
    "**Rekomendasi Strategis:**\n",
    "Prioritaskan ketersediaan sepeda untuk registered users di jam 7-9 dan 16-18\n",
    "Kembangkan program untuk meningkatkan konversi casual users menjadi registered users\n",
    "Pertimbangkan pricing strategy yang berbeda untuk setiap segmen berdasarkan pola usage\n",
    "RetryClaude can make mistakes. Please double-check responses.\n",
    "\n",
    "\n",
    "**Kesimpulan Pertanyaan 3**\n",
    "\n",
    "**Pola Penyewaan Sepeda 24 Jam Selama Seminggu**\n",
    "**Pola Umum Mingguan:**\n",
    "\n",
    "**Hari Kerja (Senin-Jumat):**\n",
    "Menunjukkan pola bimodal yang konsisten dengan dua puncak aktivitas\n",
    "Puncak pagi: Jam 7-9 (warna biru tua, ~400-500+ rentals)\n",
    "Puncak sore: Jam 17-19 (warna biru tua, ~400-500+ rentals)\n",
    "Aktivitas minimal: Jam 0-5 dan 22-23 (warna kuning muda, <100 rentals)\n",
    "\n",
    "**Akhir Pekan (Sabtu-Minggu):**\n",
    "Menunjukkan pola unimodal yang lebih landai\n",
    "Aktivitas mulai naik: Jam 8-9 (lebih lambat dari hari kerja)\n",
    "Puncak siang: Jam 12-16 (warna biru sedang, ~300-400 rentals)\n",
    "Tidak ada rush hour yang jelas seperti hari kerja\n",
    "\n",
    "**Lonjakan Paling Signifikan:**\n",
    "\n",
    "**Tertinggi:**\n",
    "Selasa-Kamis jam 8:00 (warna biru paling gelap, ~500+ rentals)\n",
    "Senin-Kamis jam 17-18:00 (warna biru paling gelap, ~500+ rentals)\n",
    "\n",
    "**Puncak Akhir Pekan:**\n",
    "Sabtu-Minggu jam 13-15 (warna biru sedang, ~350-400 rentals)\n",
    "\n",
    "**Penurunan Paling Signifikan:**\n",
    "**Terendah:**\n",
    "Seluruh hari jam 3-4 pagi (warna kuning paling terang, <50 rentals)\n",
    "Minggu malam jam 22-23 (aktivitas paling rendah sepanjang minggu)\n",
    "\n",
    "**Drop Signifikan:**\n",
    "Jumat sore menunjukkan penurunan dibanding hari kerja lainnya\n",
    "Transisi Minggu malam ke Senin pagi (jam 20-6)\n",
    "\n",
    "**Insights Bisnis Penting:**\n",
    "\n",
    "**Karakteristik Hari Kerja:**\n",
    "Selasa-Kamis: Hari tersibuk dengan pola commuting paling jelas\n",
    "Senin: Sedikit lebih rendah dari mid-week\n",
    "Jumat: Puncak sore lebih rendah (kemungkinan WFH/flex time)\n",
    "\n",
    "**Karakteristik Akhir Pekan:**\n",
    "Sabtu: Lebih aktif dari Minggu, puncak siang hari\n",
    "Minggu: Aktivitas paling rendah, terutama pagi dan malam\n",
    "\n",
    "**Pola Temporal:**\n",
    "Jam 7-9 hari kerja: Commuting pagi (transportasi ke kantor)\n",
    "Jam 17-19 hari kerja: Commuting sore (transportasi pulang)\n",
    "Jam 12-16 weekend: Aktivitas rekreasional/leisure\n",
    "\n",
    "**Rekomendasi Operasional:**\n",
    "\n",
    "**Alokasi Sepeda:**\n",
    "Maksimalkan ketersediaan Selasa-Kamis jam 7-9 dan 17-19\n",
    "Distribusi merata di akhir pekan jam 12-16\n",
    "\n",
    "**Maintenance:**\n",
    "Optimal pada jam 2-5 pagi (semua hari)\n",
    "Minggu malam ideal untuk maintenance besar\n",
    "\n",
    "**Strategi Pricing:**\n",
    "Premium pricing saat rush hour hari kerja\n",
    "Promosi khusus weekend untuk meningkatkan usage\n",
    "\n",
    "**Kapasitas Operasional:**\n",
    "Staff maksimal: Selasa-Kamis\n",
    "Staff minimal: Minggu dan dini hari"
   ]
  }
 ],
 "metadata": {
  "colab": {
   "provenance": []
  },
  "kernelspec": {
   "display_name": "Python 3 (ipykernel)",
   "language": "python",
   "name": "python3"
  },
  "language_info": {
   "codemirror_mode": {
    "name": "ipython",
    "version": 3
   },
   "file_extension": ".py",
   "mimetype": "text/x-python",
   "name": "python",
   "nbconvert_exporter": "python",
   "pygments_lexer": "ipython3",
   "version": "3.9.21"
  },
  "vscode": {
   "interpreter": {
    "hash": "972b3bf27e332e87b5379f2791f6ef9dfc79c71018c370b0d7423235e20fe4d7"
   }
  }
 },
 "nbformat": 4,
 "nbformat_minor": 4
}
